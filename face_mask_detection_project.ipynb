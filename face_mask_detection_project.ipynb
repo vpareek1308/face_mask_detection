{
  "nbformat": 4,
  "nbformat_minor": 0,
  "metadata": {
    "colab": {
      "name": "Mini_Project.ipynb",
      "provenance": []
    },
    "kernelspec": {
      "name": "python3",
      "display_name": "Python 3"
    },
    "language_info": {
      "name": "python"
    }
  },
  "cells": [
    {
      "cell_type": "markdown",
      "metadata": {
        "id": "L6NNnpXKiwoP"
      },
      "source": [
        "Mounting Drive"
      ]
    },
    {
      "cell_type": "code",
      "metadata": {
        "colab": {
          "base_uri": "https://localhost:8080/"
        },
        "id": "IQ6LgVbShxcj",
        "outputId": "5af5f96e-8da5-46bc-dddc-0022bba3cff4"
      },
      "source": [
        "from google.colab import drive\n",
        "drive.mount('/content/gdrive')"
      ],
      "execution_count": 1,
      "outputs": [
        {
          "output_type": "stream",
          "text": [
            "Drive already mounted at /content/gdrive; to attempt to forcibly remount, call drive.mount(\"/content/gdrive\", force_remount=True).\n"
          ],
          "name": "stdout"
        }
      ]
    },
    {
      "cell_type": "markdown",
      "metadata": {
        "id": "hnwPsOlXizNI"
      },
      "source": [
        "Dependencies"
      ]
    },
    {
      "cell_type": "code",
      "metadata": {
        "id": "Y6qPx4L4i0d1"
      },
      "source": [
        "import numpy as np\n",
        "import pandas as pd\n",
        "from sklearn.model_selection import train_test_split\n",
        "from sklearn.preprocessing import StandardScaler\n",
        "from sklearn.model_selection import cross_val_score\n",
        "from sklearn.tree import DecisionTreeClassifier\n",
        "from sklearn.ensemble import AdaBoostClassifier\n",
        "from sklearn.naive_bayes import GaussianNB\n",
        "from sklearn.discriminant_analysis import LinearDiscriminantAnalysis\n",
        "from sklearn.feature_selection import SelectKBest\n",
        "from PIL import Image"
      ],
      "execution_count": 27,
      "outputs": []
    },
    {
      "cell_type": "code",
      "metadata": {
        "id": "yPR9y_AoOIpl"
      },
      "source": [
        "import warnings\n",
        "warnings.filterwarnings(\"ignore\")"
      ],
      "execution_count": 41,
      "outputs": []
    },
    {
      "cell_type": "markdown",
      "metadata": {
        "id": "f6zCiFpwzlV1"
      },
      "source": [
        "Uploading Data"
      ]
    },
    {
      "cell_type": "code",
      "metadata": {
        "id": "2ZeAnXuhzjs1"
      },
      "source": [
        "img_data = []\n",
        "min = 10**10\n",
        "path = '/content/gdrive/MyDrive/ML Mini Project/Data_Images/Data/F'\n",
        "for i in range(15890):\n",
        "  path1 = path + str(i+1) + '.jpg'\n",
        "  img = Image.open(path1, 'r')\n",
        "  img_arr = np.array(img)\n",
        "  img_data.append(img_arr)"
      ],
      "execution_count": 4,
      "outputs": []
    },
    {
      "cell_type": "code",
      "metadata": {
        "id": "mw-cI0Xg27CF"
      },
      "source": [
        "min = img_data[0].size\n",
        "for i in range(len(img_data)):\n",
        "  if(min > (img_data[i].size)):\n",
        "    min = img_data[i].size\n",
        "  img_data[i] = img_data[i].reshape(img_data[i].size)"
      ],
      "execution_count": 43,
      "outputs": []
    },
    {
      "cell_type": "code",
      "metadata": {
        "id": "YnbOrp8h4Cih"
      },
      "source": [
        "for i in range(len(img_data)):\n",
        "  img_data[i] = img_data[i][-min:]"
      ],
      "execution_count": 44,
      "outputs": []
    },
    {
      "cell_type": "code",
      "metadata": {
        "colab": {
          "base_uri": "https://localhost:8080/"
        },
        "id": "G-l7nSC04WlS",
        "outputId": "403f6c73-bfc2-496e-d3f2-4780d9ead0fc"
      },
      "source": [
        "img_data_1 = np.array(img_data)\n",
        "print(img_data_1.shape)\n",
        "cols = []\n",
        "for i in range(min):\n",
        "  cols.append('Feature : ' + str(i+1))\n",
        "data = pd.DataFrame(img_data_1, columns = cols)\n",
        "print(data)"
      ],
      "execution_count": 45,
      "outputs": [
        {
          "output_type": "stream",
          "text": [
            "(15890, 3510)\n",
            "       Feature : 1  Feature : 2  ...  Feature : 3509  Feature : 3510\n",
            "0               84           53  ...              30              32\n",
            "1              181          173  ...              78             107\n",
            "2              183          195  ...              32              44\n",
            "3               26           21  ...              25              48\n",
            "4              255          237  ...             137             129\n",
            "...            ...          ...  ...             ...             ...\n",
            "15885          239          240  ...              59              51\n",
            "15886           46           80  ...              81             139\n",
            "15887          248          201  ...              19              19\n",
            "15888           97           75  ...             122              96\n",
            "15889          121           68  ...              79              51\n",
            "\n",
            "[15890 rows x 3510 columns]\n"
          ],
          "name": "stdout"
        }
      ]
    },
    {
      "cell_type": "code",
      "metadata": {
        "colab": {
          "base_uri": "https://localhost:8080/"
        },
        "id": "7HRxTQbn44MI",
        "outputId": "844cd861-fc46-4b3f-ed89-a90b9e9155cc"
      },
      "source": [
        "label = pd.read_csv('/content/gdrive/MyDrive/ML Mini Project/Data_Images/label.csv')\n",
        "print(label)"
      ],
      "execution_count": 46,
      "outputs": [
        {
          "output_type": "stream",
          "text": [
            "       label\n",
            "0          1\n",
            "1          1\n",
            "2          1\n",
            "3          1\n",
            "4          1\n",
            "...      ...\n",
            "15885      0\n",
            "15886      0\n",
            "15887      0\n",
            "15888      0\n",
            "15889      0\n",
            "\n",
            "[15890 rows x 1 columns]\n"
          ],
          "name": "stdout"
        }
      ]
    },
    {
      "cell_type": "code",
      "metadata": {
        "id": "meRyKVOK5DoR"
      },
      "source": [
        "x_train, x_test_1, y_train, y_test_1 = train_test_split(data, label, test_size = 0.4, random_state = 0)\n",
        "x_val, x_test, y_val, y_test = train_test_split(x_test_1, y_test_1, test_size = 0.25, random_state = 0)"
      ],
      "execution_count": 47,
      "outputs": []
    },
    {
      "cell_type": "markdown",
      "metadata": {
        "id": "zO4bddDX5jeU"
      },
      "source": [
        "Preprocessing"
      ]
    },
    {
      "cell_type": "code",
      "metadata": {
        "id": "JdtBgJUD5mdl"
      },
      "source": [
        "std = StandardScaler()\n",
        "x_train_1 = std.fit_transform(x_train)\n",
        "x_val_1 = std.transform(x_val)\n",
        "x_test_1 = std.transform(x_test)"
      ],
      "execution_count": 48,
      "outputs": []
    },
    {
      "cell_type": "code",
      "metadata": {
        "id": "jiK3hhxa51l0"
      },
      "source": [
        "lda = LinearDiscriminantAnalysis()\n",
        "x_train_2 = lda.fit_transform(x_train_1, y_train)\n",
        "x_val_2 = lda.transform(x_val_1)\n",
        "x_test_2 = lda.transform(x_test_1)"
      ],
      "execution_count": 49,
      "outputs": []
    },
    {
      "cell_type": "code",
      "metadata": {
        "id": "jUkc4_x86H9h"
      },
      "source": [
        "skb = SelectKBest(k = 100)\n",
        "x_train_3 = skb.fit_transform(x_train_1, y_train)\n",
        "x_val_3 = skb.transform(x_val_1)\n",
        "x_test_3 = skb.transform(x_test_1)"
      ],
      "execution_count": 50,
      "outputs": []
    },
    {
      "cell_type": "markdown",
      "metadata": {
        "id": "6V2rjzW96fN8"
      },
      "source": [
        "Decision Tree Classifier"
      ]
    },
    {
      "cell_type": "code",
      "metadata": {
        "colab": {
          "base_uri": "https://localhost:8080/"
        },
        "id": "EI9UKbXQ6hLb",
        "outputId": "fde70e67-3c6c-446b-a285-0cf130c47852"
      },
      "source": [
        "model_dt_1 = DecisionTreeClassifier(max_depth = 7)\n",
        "model_dt_1.fit(x_train_1, y_train)\n",
        "print('Training accuracy : ', model_dt_1.score(x_train_1, y_train))\n",
        "print('Validation accuracy : ', model_dt_1.score(x_val_1, y_val))\n",
        "print('Testing accuracy : ', model_dt_1.score(x_test_1, y_test))\n",
        "print('Cross validation score : ', cross_val_score(model_dt_1, x_train_1, y_train))"
      ],
      "execution_count": 51,
      "outputs": [
        {
          "output_type": "stream",
          "text": [
            "Training accuracy :  0.9873085798195931\n",
            "Validation accuracy :  0.973778057478498\n",
            "Testing accuracy :  0.9723096286972939\n",
            "Cross validation score :  [0.97325642 0.97115889 0.96958574 0.97587834 0.97166842]\n"
          ],
          "name": "stdout"
        }
      ]
    },
    {
      "cell_type": "code",
      "metadata": {
        "colab": {
          "base_uri": "https://localhost:8080/"
        },
        "id": "exBgL6ub7BsK",
        "outputId": "b6844ba6-7012-4bc7-a30f-9e06da5b3bab"
      },
      "source": [
        "model_dt_2 = DecisionTreeClassifier(max_depth = 7)\n",
        "model_dt_2.fit(x_train_2, y_train)\n",
        "print('Training accuracy : ', model_dt_2.score(x_train_2, y_train))\n",
        "print('Validation accuracy : ', model_dt_2.score(x_val_2, y_val))\n",
        "print('Testing accuracy : ', model_dt_2.score(x_test_2, y_test))\n",
        "print('Cross validation score : ', cross_val_score(model_dt_2, x_train_2, y_train))"
      ],
      "execution_count": 52,
      "outputs": [
        {
          "output_type": "stream",
          "text": [
            "Training accuracy :  1.0\n",
            "Validation accuracy :  0.9618208516886931\n",
            "Testing accuracy :  0.9622404027690371\n",
            "Cross validation score :  [0.99895123 0.99947562 1.         1.         1.        ]\n"
          ],
          "name": "stdout"
        }
      ]
    },
    {
      "cell_type": "code",
      "metadata": {
        "colab": {
          "base_uri": "https://localhost:8080/"
        },
        "id": "FkJTW0rn7DlI",
        "outputId": "dd81b1bc-184f-4617-f959-5a896fb4a57d"
      },
      "source": [
        "model_dt_3 = DecisionTreeClassifier(max_depth = 7)\n",
        "model_dt_3.fit(x_train_3, y_train)\n",
        "print('Training accuracy : ', model_dt_3.score(x_train_3, y_train))\n",
        "print('Validation accuracy : ', model_dt_3.score(x_val_3, y_val))\n",
        "print('Testing accuracy : ', model_dt_3.score(x_test_3, y_test))\n",
        "print('Cross validation score : ', cross_val_score(model_dt_3, x_train_3, y_train))"
      ],
      "execution_count": 53,
      "outputs": [
        {
          "output_type": "stream",
          "text": [
            "Training accuracy :  0.9840570589469267\n",
            "Validation accuracy :  0.9767149150409062\n",
            "Testing accuracy :  0.974826935179358\n",
            "Cross validation score :  [0.97220766 0.97797588 0.97482958 0.97430519 0.97481637]\n"
          ],
          "name": "stdout"
        }
      ]
    },
    {
      "cell_type": "markdown",
      "metadata": {
        "id": "JCDIuDzH73pv"
      },
      "source": [
        "AdaBoost Classifier"
      ]
    },
    {
      "cell_type": "code",
      "metadata": {
        "colab": {
          "base_uri": "https://localhost:8080/"
        },
        "id": "MjKh2s1a75y7",
        "outputId": "cd80dfb0-19fc-40e0-d241-dcec5d021632"
      },
      "source": [
        "model_b_1 = AdaBoostClassifier(base_estimator = DecisionTreeClassifier(max_depth = 3), n_estimators = 10)\n",
        "model_b_1.fit(x_train_1, y_train)\n",
        "print('Training accuracy : ', model_b_1.score(x_train_1, y_train))\n",
        "print('Validation accuracy : ', model_b_1.score(x_val_1, y_val))\n",
        "print('Testing accuracy : ', model_b_1.score(x_test_1, y_test))\n",
        "print('Cross validation score : ', cross_val_score(model_b_1, x_train_1, y_train))"
      ],
      "execution_count": 54,
      "outputs": [
        {
          "output_type": "stream",
          "text": [
            "Training accuracy :  0.9856303754982169\n",
            "Validation accuracy :  0.9775540172015943\n",
            "Testing accuracy :  0.9786028949024543\n",
            "Cross validation score :  [0.97535396 0.97482958 0.97378081 0.97378081 0.97219307]\n"
          ],
          "name": "stdout"
        }
      ]
    },
    {
      "cell_type": "code",
      "metadata": {
        "colab": {
          "base_uri": "https://localhost:8080/"
        },
        "id": "gbx3Jza78NKv",
        "outputId": "1c5bfc3c-dd35-48aa-ebe6-70c4c50f83d6"
      },
      "source": [
        "model_b_2 = AdaBoostClassifier(base_estimator = DecisionTreeClassifier(max_depth = 3), n_estimators = 10)\n",
        "model_b_2.fit(x_train_2, y_train)\n",
        "print('Training accuracy : ', model_b_2.score(x_train_2, y_train))\n",
        "print('Validation accuracy : ', model_b_2.score(x_val_2, y_val))\n",
        "print('Testing accuracy : ', model_b_2.score(x_test_2, y_test))\n",
        "print('Cross validation score : ', cross_val_score(model_b_2, x_train_2, y_train))"
      ],
      "execution_count": 55,
      "outputs": [
        {
          "output_type": "stream",
          "text": [
            "Training accuracy :  1.0\n",
            "Validation accuracy :  0.9618208516886931\n",
            "Testing accuracy :  0.9622404027690371\n",
            "Cross validation score :  [0.99895123 0.99947562 1.         1.         1.        ]\n"
          ],
          "name": "stdout"
        }
      ]
    },
    {
      "cell_type": "code",
      "metadata": {
        "colab": {
          "base_uri": "https://localhost:8080/"
        },
        "id": "ztYLsZAf8Ut-",
        "outputId": "092d7b9d-152f-46ea-866e-889b13b1703e"
      },
      "source": [
        "model_b_3 = AdaBoostClassifier(base_estimator = DecisionTreeClassifier(max_depth = 3), n_estimators = 10)\n",
        "model_b_3.fit(x_train_3, y_train)\n",
        "print('Training accuracy : ', model_b_3.score(x_train_3, y_train))\n",
        "print('Validation accuracy : ', model_b_3.score(x_val_3, y_val))\n",
        "print('Testing accuracy : ', model_b_3.score(x_test_3, y_test))\n",
        "print('Cross validation score : ', cross_val_score(model_b_3, x_train_3, y_train))"
      ],
      "execution_count": 56,
      "outputs": [
        {
          "output_type": "stream",
          "text": [
            "Training accuracy :  0.9825886301657227\n",
            "Validation accuracy :  0.9781833438221104\n",
            "Testing accuracy :  0.9773442416614223\n",
            "Cross validation score :  [0.97850026 0.97535396 0.97535396 0.97115889 0.97376705]\n"
          ],
          "name": "stdout"
        }
      ]
    },
    {
      "cell_type": "markdown",
      "metadata": {
        "id": "ThF_BAjy8cRp"
      },
      "source": [
        "Naive Bayes Classifier"
      ]
    },
    {
      "cell_type": "code",
      "metadata": {
        "colab": {
          "base_uri": "https://localhost:8080/"
        },
        "id": "Fj4IQziD8enk",
        "outputId": "70ae4d1c-4b7d-499c-9060-52d107188fe9"
      },
      "source": [
        "model_nb_1 = GaussianNB()\n",
        "model_nb_1.fit(x_train_1, y_train)\n",
        "print('Training accuracy : ', model_nb_1.score(x_train_1, y_train))\n",
        "print('Validation accuracy : ', model_nb_1.score(x_val_1, y_val))\n",
        "print('Testing accuracy : ', model_nb_1.score(x_test_1, y_test))\n",
        "print('Cross validation score : ', cross_val_score(model_nb_1, x_train_1, y_train))"
      ],
      "execution_count": 57,
      "outputs": [
        {
          "output_type": "stream",
          "text": [
            "Training accuracy :  0.7243549402139711\n",
            "Validation accuracy :  0.7396685546465283\n",
            "Testing accuracy :  0.7142857142857143\n",
            "Cross validation score :  [0.75353959 0.7304667  0.71893026 0.69847929 0.73452256]\n"
          ],
          "name": "stdout"
        }
      ]
    },
    {
      "cell_type": "code",
      "metadata": {
        "colab": {
          "base_uri": "https://localhost:8080/"
        },
        "id": "wlf5LzK48pu8",
        "outputId": "d03e482a-d91b-4c07-e9ba-5bff46a0ddee"
      },
      "source": [
        "model_nb_2 = GaussianNB()\n",
        "model_nb_2.fit(x_train_2, y_train)\n",
        "print('Training accuracy : ', model_nb_2.score(x_train_2, y_train))\n",
        "print('Validation accuracy : ', model_nb_2.score(x_val_2, y_val))\n",
        "print('Testing accuracy : ', model_nb_2.score(x_test_2, y_test))\n",
        "print('Cross validation score : ', cross_val_score(model_nb_2, x_train_2, y_train))"
      ],
      "execution_count": 58,
      "outputs": [
        {
          "output_type": "stream",
          "text": [
            "Training accuracy :  0.9993706733794839\n",
            "Validation accuracy :  0.9702118732955738\n",
            "Testing accuracy :  0.9660163624921334\n",
            "Cross validation score :  [0.99947562 0.99947562 0.99790246 1.         0.99895068]\n"
          ],
          "name": "stdout"
        }
      ]
    },
    {
      "cell_type": "code",
      "metadata": {
        "colab": {
          "base_uri": "https://localhost:8080/"
        },
        "id": "xxrqbbPC8xpD",
        "outputId": "13ef07a9-9cca-489d-ef96-a8d3d29c33b4"
      },
      "source": [
        "model_nb_3 = GaussianNB()\n",
        "model_nb_3.fit(x_train_3, y_train)\n",
        "print('Training accuracy : ', model_nb_3.score(x_train_3, y_train))\n",
        "print('Validation accuracy : ', model_nb_3.score(x_val_3, y_val))\n",
        "print('Testing accuracy : ', model_nb_3.score(x_test_3, y_test))\n",
        "print('Cross validation score : ', cross_val_score(model_nb_3, x_train_3, y_train))"
      ],
      "execution_count": 59,
      "outputs": [
        {
          "output_type": "stream",
          "text": [
            "Training accuracy :  0.7463813719320327\n",
            "Validation accuracy :  0.749108453954269\n",
            "Testing accuracy :  0.7312775330396476\n",
            "Cross validation score :  [0.73518616 0.75773466 0.73990561 0.73990561 0.7570829 ]\n"
          ],
          "name": "stdout"
        }
      ]
    }
  ]
}